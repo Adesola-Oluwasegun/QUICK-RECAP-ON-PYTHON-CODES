{
 "cells": [
  {
   "cell_type": "markdown",
   "metadata": {},
   "source": [
    "# FUNCTOOLS"
   ]
  },
  {
   "cell_type": "code",
   "execution_count": 1,
   "metadata": {},
   "outputs": [
    {
     "name": "stdout",
     "output_type": "stream",
     "text": [
      "8.0\n"
     ]
    }
   ],
   "source": [
    "#partial function\n",
    "\n",
    "from functools import partial\n",
    "\n",
    "def divide(x,y):\n",
    "    return x / y\n",
    "#create a new function that divides\n",
    "my_num = partial(divide, 40)\n",
    "print(my_num(5))\n",
    "#the default values will start replacing variables from the left: x = 40, y = 5"
   ]
  },
  {
   "cell_type": "code",
   "execution_count": 2,
   "metadata": {},
   "outputs": [
    {
     "name": "stdout",
     "output_type": "stream",
     "text": [
      "3145\n"
     ]
    }
   ],
   "source": [
    "#partial function\n",
    "def eqn(a,b,c,x):\n",
    "    return 1000*a + 100*b + 10*c + x\n",
    "#create a partial function that calls eqn with a = 3, b = 1, c = 4\n",
    "new_eqn = partial(eqn, 3,1,4)\n",
    "print(new_eqn(5))"
   ]
  },
  {
   "cell_type": "code",
   "execution_count": 4,
   "metadata": {},
   "outputs": [
    {
     "name": "stdout",
     "output_type": "stream",
     "text": [
      "5324\n"
     ]
    }
   ],
   "source": [
    "#partial function\n",
    "def eqn(a,b,c,x):\n",
    "    return 1000*a + 100*b + 10*c + x\n",
    "#create a partial function that calls eqn with keyword arguments\n",
    "new_eqn = partial(eqn, c = 2, b = 3, x = 4)\n",
    "print(new_eqn(5))"
   ]
  },
  {
   "cell_type": "markdown",
   "metadata": {},
   "source": [
    "# LAMBDA, FILTER, REDUCE & MAP"
   ]
  },
  {
   "cell_type": "code",
   "execution_count": 18,
   "metadata": {},
   "outputs": [
    {
     "name": "stdout",
     "output_type": "stream",
     "text": [
      "[2.857142857142857, 7.142857142857143, 8.571428571428571]\n"
     ]
    }
   ],
   "source": [
    "# map() function: takes two arguments; r = map(func, seq)\n",
    "#example\n",
    "\n",
    "def naira_dollar(M):\n",
    "    return (M / 350)\n",
    "\n",
    "money = (1000, 2500,3000)\n",
    "F = map(naira_dollar, money)\n",
    "\n",
    "print(list(F))"
   ]
  },
  {
   "cell_type": "code",
   "execution_count": 16,
   "metadata": {},
   "outputs": [
    {
     "name": "stdout",
     "output_type": "stream",
     "text": [
      "<map object at 0x00000177459F2388>\n",
      "[1, 4, 9, 16]\n"
     ]
    }
   ],
   "source": [
    "def newfunc(a):\n",
    "    return a*a\n",
    "x = map(newfunc, [1,2,3,4])\n",
    "print(x)\n",
    "print(list(x))"
   ]
  },
  {
   "cell_type": "code",
   "execution_count": 19,
   "metadata": {},
   "outputs": [
    {
     "name": "stdout",
     "output_type": "stream",
     "text": [
      "[1, 4, 9, 16, 25]\n"
     ]
    }
   ],
   "source": [
    "# map() func and lambda func\n",
    "num = (1,2,3,4,5)\n",
    "myfunc = map(lambda a: a*a, num)\n",
    "print(list(myfunc))"
   ]
  },
  {
   "cell_type": "code",
   "execution_count": 20,
   "metadata": {},
   "outputs": [
    {
     "name": "stdout",
     "output_type": "stream",
     "text": [
      "<filter object at 0x00000177459FD608>\n",
      "[3, 4]\n"
     ]
    }
   ],
   "source": [
    "# filter() function\n",
    "\n",
    "#filter() is used to create an output list consisting of values for which the function returns true; SYNTAX: filter(function, iterables)\n",
    "\n",
    "#example\n",
    "def func(x):\n",
    "    if x  >= 3:\n",
    "        return x\n",
    "y = filter(func, (1,2,3,4)) #filter thru the list for x >= 3\n",
    "print(y)\n",
    "print(list(y))"
   ]
  },
  {
   "cell_type": "code",
   "execution_count": 21,
   "metadata": {},
   "outputs": [
    {
     "name": "stdout",
     "output_type": "stream",
     "text": [
      "[3, 4]\n"
     ]
    }
   ],
   "source": [
    "#filter() func and lambda func\n",
    "\n",
    "y = filter(lambda x: (x >= 3), (1,2,3,4))\n",
    "print(list(y))"
   ]
  },
  {
   "cell_type": "code",
   "execution_count": 22,
   "metadata": {},
   "outputs": [
    {
     "data": {
      "text/plain": [
       "187"
      ]
     },
     "execution_count": 22,
     "metadata": {},
     "output_type": "execute_result"
    }
   ],
   "source": [
    "# reduce () function\n",
    "\n",
    "#reduce function applies a given functon to the iterables and returns a single value; needs to be imported from the functools module\n",
    "\n",
    "from functools import reduce\n",
    "reduce(lambda a,b: a + b, [23, 21, 45, 98]) #in this example, the reduce function consecutively adds each iterable present in the list and returns a single output"
   ]
  },
  {
   "cell_type": "code",
   "execution_count": 23,
   "metadata": {},
   "outputs": [
    {
     "name": "stdout",
     "output_type": "stream",
     "text": [
      "[2, 4, 6, 8]\n"
     ]
    }
   ],
   "source": [
    "def double(x):\n",
    "    return 2 * x\n",
    "\n",
    "xs = [1,2,3,4]\n",
    "twice_xs = map(double, xs)\n",
    "print(list(twice_xs))"
   ]
  },
  {
   "cell_type": "code",
   "execution_count": 28,
   "metadata": {
    "scrolled": true
   },
   "outputs": [
    {
     "name": "stdout",
     "output_type": "stream",
     "text": [
      "[2, 4, 6, 8, 10]\n"
     ]
    }
   ],
   "source": [
    "def double(x):\n",
    "    return 2 * x\n",
    "\n",
    "xs = [1,2,3,4,5]\n",
    "list_doubler = partial(map, double) #function that doubles a list\n",
    "twice_xs = list_doubler(xs)\n",
    "print(list(twice_xs))"
   ]
  },
  {
   "cell_type": "code",
   "execution_count": 32,
   "metadata": {},
   "outputs": [
    {
     "name": "stdout",
     "output_type": "stream",
     "text": [
      "[2, 4]\n"
     ]
    }
   ],
   "source": [
    "def is_even(x):\n",
    "    \"\"\"True if x is even, False if x is odd\"\"\"\n",
    "    return x % 2 == 0\n",
    "xs = [1,2,3,4,5]\n",
    "list_evener = partial(filter, is_even) #function that filters a list\n",
    "x_evens = list_evener(xs)\n",
    "print(list(x_evens))"
   ]
  },
  {
   "cell_type": "markdown",
   "metadata": {},
   "source": [
    "# ENUMERATE"
   ]
  },
  {
   "cell_type": "code",
   "execution_count": 33,
   "metadata": {},
   "outputs": [
    {
     "name": "stdout",
     "output_type": "stream",
     "text": [
      "ade 0\n",
      "shade 1\n",
      "lola 2\n",
      "rehoboth 3\n",
      "chidim 4\n"
     ]
    }
   ],
   "source": [
    "\"\"\"Most times, we'll want to iterate over a list and use both its elements and their indexes. The Pythonic solution is enumerate, which produces tuples(index, element)\"\"\"\n",
    "namess = 'ade shade lola rehoboth chidim'\n",
    "names = namess.split()\n",
    "for i, name in enumerate(names):\n",
    "    print(name, i)"
   ]
  },
  {
   "cell_type": "code",
   "execution_count": 34,
   "metadata": {},
   "outputs": [
    {
     "name": "stdout",
     "output_type": "stream",
     "text": [
      "0\n",
      "1\n",
      "2\n",
      "3\n",
      "4\n"
     ]
    }
   ],
   "source": [
    "\"\"\"if we just want the indexes\"\"\"\n",
    "for i, _ in enumerate(names):\n",
    "    print(i)"
   ]
  },
  {
   "cell_type": "markdown",
   "metadata": {},
   "source": [
    "# ZIP AND ARGUMENT UNPACKING"
   ]
  },
  {
   "cell_type": "code",
   "execution_count": 35,
   "metadata": {},
   "outputs": [
    {
     "name": "stdout",
     "output_type": "stream",
     "text": [
      "[(1, 'a'), (2, 'b'), (3, 'c')]\n"
     ]
    }
   ],
   "source": [
    "\"\"\"Python's zip() function takes in iterables as arguments and returns an iterator\"\"\"\n",
    "\n",
    "#Example\n",
    "numbers = [1,2,3]\n",
    "letters = ['a', 'b', 'c']\n",
    "zipped = zip(numbers, letters)\n",
    "print(list(zipped))"
   ]
  },
  {
   "cell_type": "code",
   "execution_count": 36,
   "metadata": {},
   "outputs": [
    {
     "name": "stdout",
     "output_type": "stream",
     "text": [
      "[(1, 'a', 0), (2, 'b', 1), (3, 'c', 2), ('?', '?', 3), ('?', '?', 4)]\n"
     ]
    }
   ],
   "source": [
    "# zip_longest() vs zip()\n",
    "\"\"\"If trailing/unmatched values are important, then you can use itertols.ziplongest() instead of zip(). \n",
    "With this function, the missing values will be replaced with whatever you pass to the fillvalue argument(defaults to None)\"\"\"\n",
    "\n",
    "#Example\n",
    "from itertools import zip_longest\n",
    "numbers = [1,2,3]\n",
    "letters = ['a', 'b', 'c']\n",
    "longest = range(5)\n",
    "zipped = zip_longest(numbers, letters, longest, fillvalue = '?')\n",
    "print(list(zipped))"
   ]
  },
  {
   "cell_type": "code",
   "execution_count": 40,
   "metadata": {},
   "outputs": [
    {
     "name": "stdout",
     "output_type": "stream",
     "text": [
      "Letter: a\n",
      "Number: 0\n",
      "Letter: b\n",
      "Number: 1\n",
      "Letter: c\n",
      "Number: 2\n"
     ]
    }
   ],
   "source": [
    "#Looping over multiple Iterables\n",
    "\n",
    "#Example\n",
    "numbers = [0,1,2]\n",
    "letters = ['a', 'b', 'c']\n",
    "for n,l in zip(numbers, letters):\n",
    "    print(f'Letter: {l}')\n",
    "    print(f'Number: {n}')"
   ]
  },
  {
   "cell_type": "code",
   "execution_count": 41,
   "metadata": {},
   "outputs": [
    {
     "name": "stdout",
     "output_type": "stream",
     "text": [
      "name = John\n",
      "name = Jane\n",
      "last_name = Doe\n",
      "last_name = Doe\n"
     ]
    }
   ],
   "source": [
    "#Traversing Dictionaries in Parallel\n",
    "\n",
    "#Example\n",
    "dict_one = {'name': 'John', 'last_name': 'Doe'}\n",
    "dict_two = {'name': 'Jane', 'last_name': 'Doe'}\n",
    "for (k1, v1), (k2,v2) in zip(dict_one.items(), dict_two.items()):\n",
    "    print(k1, '=', v1)\n",
    "    print(k2, '=', v2)"
   ]
  },
  {
   "cell_type": "code",
   "execution_count": 42,
   "metadata": {},
   "outputs": [
    {
     "data": {
      "text/plain": [
       "{'name': 'John', 'last_name': 'Doe', 'age': '43'}"
      ]
     },
     "execution_count": 42,
     "metadata": {},
     "output_type": "execute_result"
    }
   ],
   "source": [
    "#Building Dictionaries\n",
    "\n",
    "#Example\n",
    "fields = ['name', 'last_name', 'age']\n",
    "values = ['John', 'Doe', '43']\n",
    "\n",
    "a_dict = dict(zip(fields, values))\n",
    "a_dict"
   ]
  },
  {
   "cell_type": "code",
   "execution_count": 43,
   "metadata": {},
   "outputs": [
    {
     "name": "stdout",
     "output_type": "stream",
     "text": [
      "Monthly profit: 5200\n",
      "Monthly profit: 5100\n",
      "Monthly profit: 4800\n"
     ]
    }
   ],
   "source": [
    "#Calculating in Pairs\n",
    "\n",
    "#Example\n",
    "total_sales = [52000, 51000, 48000]\n",
    "prod_cost = [46800, 45900, 43200]\n",
    "\n",
    "for sales, costs in zip(total_sales,prod_cost):\n",
    "    profit = sales - costs\n",
    "    print(f'Monthly profit: {profit}')"
   ]
  },
  {
   "cell_type": "code",
   "execution_count": 45,
   "metadata": {},
   "outputs": [
    {
     "name": "stdout",
     "output_type": "stream",
     "text": [
      "(1, 2, 3)\n",
      "('a', 'b', 'c')\n"
     ]
    }
   ],
   "source": [
    "#Unzipping a Sequence\n",
    "\n",
    "#Example\n",
    "pairs = [(1, 'a'), (2, 'b'), (3, 'c')]\n",
    "\n",
    "numbers, letters = zip(*pairs)\n",
    "print(numbers)\n",
    "print(letters)"
   ]
  },
  {
   "cell_type": "markdown",
   "metadata": {},
   "source": [
    "# ARGS AND KWARGS"
   ]
  },
  {
   "cell_type": "code",
   "execution_count": 47,
   "metadata": {},
   "outputs": [
    {
     "name": "stdout",
     "output_type": "stream",
     "text": [
      "15\n"
     ]
    }
   ],
   "source": [
    "\"\"\" *args and **kwargs allow you to pass multiple arguments or keyword arguments to a function.\"\"\"\n",
    "\n",
    "#Using Python args variable in Function definitions\n",
    "#Example\n",
    "def my_sum(*integers):\n",
    "    result = 0\n",
    "    for number in integers:\n",
    "        result += number\n",
    "    return result\n",
    "print(my_sum(1,2,3,4,5))"
   ]
  },
  {
   "cell_type": "code",
   "execution_count": 50,
   "metadata": {},
   "outputs": [
    {
     "ename": "SyntaxError",
     "evalue": "keyword can't be an expression (<ipython-input-50-8a76be398546>, line 8)",
     "output_type": "error",
     "traceback": [
      "\u001b[1;36m  File \u001b[1;32m\"<ipython-input-50-8a76be398546>\"\u001b[1;36m, line \u001b[1;32m8\u001b[0m\n\u001b[1;33m    a = my_dict('a' = 1, 'b' = 2, 'c' = 3, 'd' = 4, 'e' = 5)\u001b[0m\n\u001b[1;37m               ^\u001b[0m\n\u001b[1;31mSyntaxError\u001b[0m\u001b[1;31m:\u001b[0m keyword can't be an expression\n"
     ]
    }
   ],
   "source": [
    "#Using Python kwargs variable in Function definitions\n",
    "#Example\n",
    "def my_sum(**my_dict):\n",
    "    result = 0\n",
    "    for number in my_dict.values():\n",
    "        result += number\n",
    "    return result\n",
    "a = my_dict('a' = 1, 'b' = 2, 'c' = 3, 'd' = 4, 'e' = 5)\n",
    "a"
   ]
  },
  {
   "cell_type": "code",
   "execution_count": null,
   "metadata": {},
   "outputs": [],
   "source": []
  }
 ],
 "metadata": {
  "kernelspec": {
   "display_name": "Python 3",
   "language": "python",
   "name": "python3"
  },
  "language_info": {
   "codemirror_mode": {
    "name": "ipython",
    "version": 3
   },
   "file_extension": ".py",
   "mimetype": "text/x-python",
   "name": "python",
   "nbconvert_exporter": "python",
   "pygments_lexer": "ipython3",
   "version": "3.7.4"
  }
 },
 "nbformat": 4,
 "nbformat_minor": 2
}
